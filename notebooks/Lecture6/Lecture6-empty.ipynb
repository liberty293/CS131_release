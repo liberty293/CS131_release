{
 "cells": [
  {
   "cell_type": "markdown",
   "metadata": {
    "slideshow": {
     "slide_type": "slide"
    }
   },
   "source": [
    "# Lecture 6: Features and Matching\n",
    "### Juan Carlos Niebles and Adrien Gaidon\n"
   ]
  },
  {
   "cell_type": "code",
   "execution_count": null,
   "metadata": {
    "slideshow": {
     "slide_type": "skip"
    }
   },
   "outputs": [],
   "source": [
    "import numpy as np\n",
    "from skimage import io\n",
    "from matplotlib import pyplot as plt\n",
    "import cv2\n",
    "sift = cv2.SIFT_create()"
   ]
  },
  {
   "cell_type": "markdown",
   "metadata": {
    "slideshow": {
     "slide_type": "slide"
    }
   },
   "source": [
    "## SIFT: Scale Invariant Feature Transform\n",
    "\n",
    "SIFT has two key components:\n",
    "1. A feature detector, which finds keypoints\n",
    "2. A feature descriptor, which encodes each keypoint into a $128-$dimensional vector."
   ]
  },
  {
   "cell_type": "markdown",
   "metadata": {
    "slideshow": {
     "slide_type": "slide"
    }
   },
   "source": [
    "## SIFT Keypoint detection\n",
    "\n",
    "Keypoint detection in SIFT is based on finding local maxima on the image responses to DoG filters. Let's use these two images as example."
   ]
  },
  {
   "cell_type": "code",
   "execution_count": null,
   "metadata": {},
   "outputs": [],
   "source": [
    "img1 = cv2.imread(\"001.jpg\"); img1_gray = cv2.cvtColor(img1, cv2.COLOR_BGR2GRAY)\n",
    "img2 = cv2.imread(\"002.jpg\"); img2_gray = cv2.cvtColor(img2, cv2.COLOR_BGR2GRAY)\n",
    "plt.figure(figsize=(10,4))\n",
    "plt.subplot(1,2,1); plt.imshow(img1[...,::-1])\n",
    "plt.subplot(1,2,2); plt.imshow(img2[...,::-1])\n",
    "plt.tight_layout()"
   ]
  },
  {
   "cell_type": "markdown",
   "metadata": {
    "slideshow": {
     "slide_type": "slide"
    }
   },
   "source": [
    "Now, let's look at the detected keypoints:"
   ]
  },
  {
   "cell_type": "code",
   "execution_count": null,
   "metadata": {
    "scrolled": false,
    "slideshow": {
     "slide_type": "-"
    }
   },
   "outputs": [],
   "source": [
    "img1_kp = sift.detect(img1_gray)\n",
    "img2_kp = sift.detect(img2_gray)\n",
    "\n",
    "img1_vis = cv2.drawKeypoints(img1_gray, img1_kp, img1, flags=cv2.DRAW_MATCHES_FLAGS_DRAW_RICH_KEYPOINTS)\n",
    "img2_vis = cv2.drawKeypoints(img2_gray, img2_kp, img2, flags=cv2.DRAW_MATCHES_FLAGS_DRAW_RICH_KEYPOINTS)\n",
    "\n",
    "plt.figure(figsize=(10,4))\n",
    "plt.subplot(1,2,1); plt.imshow(img1_vis)\n",
    "plt.subplot(1,2,2); plt.imshow(img2_vis)\n",
    "plt.tight_layout()"
   ]
  },
  {
   "cell_type": "markdown",
   "metadata": {
    "slideshow": {
     "slide_type": "slide"
    }
   },
   "source": [
    "Once we have keypoints, we can compute sift descriptors for each of them:"
   ]
  },
  {
   "cell_type": "code",
   "execution_count": null,
   "metadata": {},
   "outputs": [],
   "source": [
    "img1_kp, img1_desc = sift.compute(img1_gray, img1_kp)\n",
    "img2_kp, img2_desc = sift.compute(img2_gray, img2_kp)\n",
    "\n",
    "\n",
    "print(f\"img1 descriptor shape: {img1_desc.shape}\\n\")\n",
    "print(f\"first keypoint location: {img1_kp[0].pt[0]:.2f}, {img1_kp[0].pt[1]:.2f}\\n\")\n",
    "print(f\"first keypoint descriptor:\")\n",
    "print(img1_desc[0,:])"
   ]
  },
  {
   "cell_type": "code",
   "execution_count": null,
   "metadata": {
    "slideshow": {
     "slide_type": "slide"
    }
   },
   "outputs": [],
   "source": [
    "bf = cv2.BFMatcher()\n",
    "matches = bf.match(img1_desc,img2_desc)\n",
    "\n",
    "matches = sorted(matches, key = lambda x:x.distance)\n",
    "\n",
    "img3 = cv2.drawMatches(img1, img1_kp, img2, img2_kp, matches[:100], None,\n",
    "                       flags=cv2.DrawMatchesFlags_NOT_DRAW_SINGLE_POINTS)\n",
    "plt.figure(figsize=(20,10))\n",
    "plt.imshow(img3[...,::-1])\n",
    "plt.show()"
   ]
  },
  {
   "cell_type": "code",
   "execution_count": null,
   "metadata": {},
   "outputs": [],
   "source": []
  }
 ],
 "metadata": {
  "celltoolbar": "Slideshow",
  "kernelspec": {
   "display_name": "Python 3",
   "language": "python",
   "name": "python3"
  },
  "language_info": {
   "codemirror_mode": {
    "name": "ipython",
    "version": 3
   },
   "file_extension": ".py",
   "mimetype": "text/x-python",
   "name": "python",
   "nbconvert_exporter": "python",
   "pygments_lexer": "ipython3",
   "version": "3.7.4"
  }
 },
 "nbformat": 4,
 "nbformat_minor": 4
}
