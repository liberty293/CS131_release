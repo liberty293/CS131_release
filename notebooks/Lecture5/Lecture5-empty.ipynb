{
 "cells": [
  {
   "cell_type": "markdown",
   "metadata": {
    "slideshow": {
     "slide_type": "slide"
    }
   },
   "source": [
    "# Lecture 5: Features and Matching\n",
    "### Juan Carlos Niebles and Adrien Gaidon\n"
   ]
  },
  {
   "cell_type": "code",
   "execution_count": null,
   "metadata": {
    "slideshow": {
     "slide_type": "skip"
    }
   },
   "outputs": [],
   "source": [
    "import numpy as np\n",
    "from skimage import io\n",
    "from matplotlib import pyplot as plt\n",
    "from skimage import feature"
   ]
  },
  {
   "cell_type": "markdown",
   "metadata": {
    "slideshow": {
     "slide_type": "slide"
    }
   },
   "source": [
    "## Contents\n",
    "\n",
    "1. RANSAC\n",
    "2. Harris corner detector"
   ]
  },
  {
   "cell_type": "markdown",
   "metadata": {
    "slideshow": {
     "slide_type": "slide"
    }
   },
   "source": [
    "## Line detection\n",
    "\n",
    "Let's suppose we want to find lines on this image. One way to do that, is to first run Canny edge detection to get a list of points, and then run a line estimation algorithm. Let's do Canny first:"
   ]
  },
  {
   "cell_type": "code",
   "execution_count": null,
   "metadata": {},
   "outputs": [],
   "source": [
    "img = io.imread(\"field.jpg\", as_gray=True)\n",
    "edge = feature.canny(img, sigma=4)\n",
    "plt.figure(figsize=(18,10))\n",
    "plt.subplot(1,2,1); plt.imshow(img, cmap=\"gray\"); plt.title(\"input image\", fontsize=20);\n",
    "plt.subplot(1,2,2); plt.imshow(edge, cmap=\"gray\"); plt.title(\"edge map\", fontsize=20);"
   ]
  },
  {
   "cell_type": "markdown",
   "metadata": {
    "slideshow": {
     "slide_type": "slide"
    }
   },
   "source": [
    "Now, let's get the coordinates of all edge points:"
   ]
  },
  {
   "cell_type": "code",
   "execution_count": null,
   "metadata": {
    "scrolled": false,
    "slideshow": {
     "slide_type": "-"
    }
   },
   "outputs": [],
   "source": [
    "y, x = np.nonzero(edge)\n",
    "print(x[0:10], x[-10:])\n",
    "print(y[0:10], y[-10:])\n",
    "\n",
    "plt.figure(figsize=(10,5))\n",
    "plt.subplot(1,2,1); plt.imshow(img, cmap=\"gray\"); plt.title(\"input image\", fontsize=20);\n",
    "plt.subplot(1,2,2); plt.imshow(edge, cmap=\"gray\"); plt.title(\"edge map\", fontsize=20);\n",
    "plt.tight_layout();plt.show()"
   ]
  },
  {
   "cell_type": "markdown",
   "metadata": {
    "slideshow": {
     "slide_type": "slide"
    }
   },
   "source": [
    "## Line detection with Least Squares fitting?\n",
    "\n"
   ]
  },
  {
   "cell_type": "code",
   "execution_count": null,
   "metadata": {},
   "outputs": [],
   "source": [
    "reg = LinearRegression().fit(x.reshape(-1,1), y)\n",
    "print(f\"Line equation: y = {reg.coef_[0]:.2f}*x + {reg.intercept_:.2f}\")\n",
    "x_line = np.linspace(0,img.shape[1]-1).reshape(-1,1)\n",
    "y_line = reg.predict(x_line)\n",
    "\n",
    "plt.figure(figsize=(20,10))\n",
    "plt.subplot(1,3,1); plt.imshow(img, cmap=\"gray\"); plt.title(\"input image\", fontsize=20);\n",
    "plt.subplot(1,3,2); plt.imshow(edge, cmap=\"gray\"); plt.title(\"edge map\", fontsize=20);\n",
    "plt.subplot(1,3,3); plt.imshow(edge, cmap=\"gray\"); plt.title(\"least squares line\", fontsize=20);\n",
    "plt.plot(x_line, y_line, 'r')\n",
    "plt.tight_layout()"
   ]
  },
  {
   "cell_type": "code",
   "execution_count": null,
   "metadata": {
    "slideshow": {
     "slide_type": "slide"
    }
   },
   "outputs": [],
   "source": [
    "img = io.imread(\"road.jpg\", as_gray=True)\n",
    "edge = feature.canny(img, sigma=5)\n",
    "y, x = np.nonzero(edge)\n",
    "reg = LinearRegression().fit(x.reshape(-1,1), y)\n",
    "print(f\"Line equation: y = {reg.coef_[0]:.2f}*x + {reg.intercept_:.2f}\")\n",
    "\n",
    "x_line = np.linspace(0,img.shape[1]-1).reshape(-1,1)\n",
    "y_line = reg.predict(x_line)\n",
    "\n",
    "plt.figure(figsize=(20,10))\n",
    "plt.subplot(1,3,1); plt.imshow(img, cmap=\"gray\"); plt.title(\"input image\", fontsize=20);\n",
    "plt.subplot(1,3,2); plt.imshow(edge, cmap=\"gray\"); plt.title(\"edge map\", fontsize=20);\n",
    "plt.subplot(1,3,3); plt.imshow(edge, cmap=\"gray\"); plt.title(\"least squares line\", fontsize=20);\n",
    "plt.plot(x_line, y_line, 'r')\n",
    "plt.tight_layout()"
   ]
  },
  {
   "cell_type": "markdown",
   "metadata": {
    "slideshow": {
     "slide_type": "slide"
    }
   },
   "source": [
    "## Problems:\n",
    "1. How do we deal with noise/non-relevant edge points?\n",
    "2. How many lines?\n",
    "\n",
    "Both Line detection with Hough transform and line detection with RANSAC can solve these issues.\n"
   ]
  },
  {
   "cell_type": "markdown",
   "metadata": {
    "slideshow": {
     "slide_type": "slide"
    }
   },
   "source": [
    "## Line detection with RANSAC\n"
   ]
  },
  {
   "cell_type": "code",
   "execution_count": null,
   "metadata": {},
   "outputs": [],
   "source": [
    "ransac = RANSACRegressor(base_estimator=LinearRegression())\n",
    "ransac.fit(x.reshape(-1,1), y)\n",
    "print(f\"Line equation: y = {ransac.estimator_.coef_[0]:.2f}*x + {ransac.estimator_.intercept_:.2f}\")\n",
    "x_line = np.linspace(0, img.shape[1]-1).reshape(-1,1)\n",
    "y_line = ransac.predict(x_line)\n",
    "\n",
    "plt.figure(figsize=(20,10))\n",
    "plt.subplot(1,3,1); plt.imshow(img, cmap=\"gray\"); plt.title(\"input image\", fontsize=20);\n",
    "plt.subplot(1,3,2); plt.imshow(edge, cmap=\"gray\"); plt.title(\"edge map\", fontsize=20);\n",
    "plt.subplot(1,3,3); plt.plot(x_line, y_line, 'r--'); plt.imshow(edge, cmap=\"gray\"); plt.title(\"line with ransac\", fontsize=20)\n",
    "plt.tight_layout()"
   ]
  },
  {
   "cell_type": "markdown",
   "metadata": {
    "slideshow": {
     "slide_type": "slide"
    }
   },
   "source": [
    "## Line detection with RANSAC\n",
    "\n",
    "\n",
    "RANSAC decides which edge points belong to the line (__inliers__), and which are noise (__outliers__). Not what we expected?"
   ]
  },
  {
   "cell_type": "code",
   "execution_count": null,
   "metadata": {
    "slideshow": {
     "slide_type": "-"
    }
   },
   "outputs": [],
   "source": [
    "x_inliers = x[np.nonzero(ransac.inlier_mask_)]\n",
    "y_inliers = y[np.nonzero(ransac.inlier_mask_)]\n",
    "print(f\"Found {x_inliers.size} inliers.\")\n",
    "plt.figure(figsize=(20,10))\n",
    "plt.subplot(1,3,1); plt.imshow(edge, cmap=\"gray\"); plt.title(\"edge map\", fontsize=20);\n",
    "plt.subplot(1,3,2); plt.plot(x_line, y_line, 'r--'); plt.imshow(edge, cmap=\"gray\"); plt.title(\"line with ransac\", fontsize=20)\n",
    "plt.subplot(1,3,3); plt.plot(x_inliers, y_inliers, 'g.'); plt.imshow(edge, cmap=\"gray\"); plt.title(\"inliers\", fontsize=20)\n",
    "plt.tight_layout()"
   ]
  },
  {
   "cell_type": "markdown",
   "metadata": {
    "slideshow": {
     "slide_type": "slide"
    }
   },
   "source": [
    "## Line detection with RANSAC\n",
    "How do we detect other lines in the image? Ideas?"
   ]
  },
  {
   "cell_type": "code",
   "execution_count": null,
   "metadata": {
    "slideshow": {
     "slide_type": "skip"
    }
   },
   "outputs": [],
   "source": [
    "def get_next_line(x, y, img, edge, ransac):\n",
    "    pass\n",
    "    return x, y, img, edge, ransac"
   ]
  },
  {
   "cell_type": "code",
   "execution_count": null,
   "metadata": {},
   "outputs": [],
   "source": [
    "x, y, img, edge, ransac = get_next_line(x, y, img, edge, ransac)"
   ]
  },
  {
   "cell_type": "markdown",
   "metadata": {
    "slideshow": {
     "slide_type": "slide"
    }
   },
   "source": [
    "## RANSAC goes beyond line detection\n",
    "\n",
    "The examples we have seen with line detection are rather simple illustrations for the use of RANSAC. However, we can use RANSAC to fit more complex models. Another example in an upcoming homework."
   ]
  },
  {
   "cell_type": "markdown",
   "metadata": {
    "slideshow": {
     "slide_type": "slide"
    }
   },
   "source": [
    "## Harris corner detector\n"
   ]
  },
  {
   "cell_type": "code",
   "execution_count": null,
   "metadata": {},
   "outputs": [],
   "source": [
    "img = io.imread(\"board.jpg\", as_gray=True)\n",
    "plt.imshow(img, cmap=\"gray\")"
   ]
  },
  {
   "cell_type": "markdown",
   "metadata": {
    "slideshow": {
     "slide_type": "slide"
    }
   },
   "source": [
    "## Harris corner detector\n",
    "\n",
    "Corner response function. Uses the matrix $M$ to calculate $\\theta$ at each pixel. See lecture slides."
   ]
  },
  {
   "cell_type": "code",
   "execution_count": null,
   "metadata": {
    "scrolled": true,
    "slideshow": {
     "slide_type": "-"
    }
   },
   "outputs": [],
   "source": [
    "response = corner_harris(img, sigma=1)\n",
    "plt.figure(figsize=(20,10))\n",
    "plt.subplot(1,2,1); plt.imshow(img, cmap=\"gray\")\n",
    "plt.subplot(1,2,2); plt.imshow(response, cmap=\"jet\")\n",
    "plt.tight_layout()"
   ]
  },
  {
   "cell_type": "markdown",
   "metadata": {
    "slideshow": {
     "slide_type": "slide"
    }
   },
   "source": [
    "## Harris corner detection"
   ]
  },
  {
   "cell_type": "code",
   "execution_count": null,
   "metadata": {},
   "outputs": [],
   "source": [
    "coords = corner_peaks(response, min_distance=3, threshold_rel=0.02)                   \n",
    "                      \n",
    "plt.figure(figsize=(30,15))\n",
    "plt.subplot(1,3,1); plt.imshow(img, cmap=\"gray\"); plt.title(\"input\", fontsize=30)\n",
    "plt.subplot(1,3,2); plt.imshow(response, cmap=\"jet\"); plt.title(\"corner response function\", fontsize=30)\n",
    "plt.subplot(1,3,3); plt.plot(coords[:,1], coords[:,0],'r.'); plt.imshow(response, cmap=\"gray\"); plt.title(\"peak locations\", fontsize=30)\n",
    "plt.tight_layout()"
   ]
  },
  {
   "cell_type": "raw",
   "metadata": {
    "slideshow": {
     "slide_type": "skip"
    }
   },
   "source": []
  }
 ],
 "metadata": {
  "celltoolbar": "Slideshow",
  "kernelspec": {
   "display_name": "Python 3",
   "language": "python",
   "name": "python3"
  },
  "language_info": {
   "codemirror_mode": {
    "name": "ipython",
    "version": 3
   },
   "file_extension": ".py",
   "mimetype": "text/x-python",
   "name": "python",
   "nbconvert_exporter": "python",
   "pygments_lexer": "ipython3",
   "version": "3.7.4"
  }
 },
 "nbformat": 4,
 "nbformat_minor": 4
}
